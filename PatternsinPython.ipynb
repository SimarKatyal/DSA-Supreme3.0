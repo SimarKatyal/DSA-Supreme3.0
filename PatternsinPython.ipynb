# Pattern 1 - Numeric Half Pyramid
"""
1
12
123
1234
12345
"""
n = 5 # no. of rows
for row in range(n):
  for col in range(row+1):
    print(col+1, end="")
  print("\n")

# Pattern 2 - Numeric Hollow Half Pyramid
"""
1
12
1 3
1  4
12345
"""
n = 5 # no. of rows
for row in range(n):
  for col in range(row+1):
    if (col==0) or (row==col) or (row==n-1):
      print(col+1, end="")
    else:
      print(" ", end="")
  print("\n")

# Pattern 3 - Numeric Palindrome Equilateral Pyramid
"""
    1
   121
  12321
 1234321
123454321
"""
n = 5 # no. of rows
k = n
for row in range(n):
  c = 1
  for col in range(k):
    if col<n-row-1:
      print(" ", end="")
    elif col<=n-1:
      print(c, end="")
      c+=1
    elif col==n:
      c-=2
      print(c, end="")
      c-=1
    else:
      print(c, end="")
      c-=1
  k+=1
  print("\n")

# Pattern 4 - Solid Half Pyramid
"""
*
**
***
****
*****
****
***
**
*
"""
n=5
for row in range(2*n-1):
  if row<n:
    cond = row
  else:
    cond = n - (row%n) - 2
  for col in range(cond+1):
    print("*", end="")
  print("\n")
